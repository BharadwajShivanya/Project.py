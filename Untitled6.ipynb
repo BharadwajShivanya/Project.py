{
  "nbformat": 4,
  "nbformat_minor": 0,
  "metadata": {
    "colab": {
      "provenance": [],
      "authorship_tag": "ABX9TyMnCumpMfpmBUWq5UmInU30",
      "include_colab_link": true
    },
    "kernelspec": {
      "name": "python3",
      "display_name": "Python 3"
    },
    "language_info": {
      "name": "python"
    }
  },
  "cells": [
    {
      "cell_type": "markdown",
      "metadata": {
        "id": "view-in-github",
        "colab_type": "text"
      },
      "source": [
        "<a href=\"https://colab.research.google.com/github/BharadwajShivanya/Project.py/blob/main/Untitled6.ipynb\" target=\"_parent\"><img src=\"https://colab.research.google.com/assets/colab-badge.svg\" alt=\"Open In Colab\"/></a>"
      ]
    },
    {
      "cell_type": "code",
      "execution_count": null,
      "metadata": {
        "id": "kK5TbekawF4N",
        "colab": {
          "base_uri": "https://localhost:8080/"
        },
        "outputId": "9154e7f2-10be-4d64-cdcf-338caab0e310"
      },
      "outputs": [
        {
          "output_type": "stream",
          "name": "stdout",
          "text": [
            "Enter the number of players (2 - 4): 2\n",
            "\n",
            "Player number 1 turn has just started!\n",
            "Your total score is: 0 \n",
            "\n",
            "Would you like to roll (y)? y\n",
            "You rolled a: 3\n",
            "Your score is: 3\n",
            "Would you like to roll (y)? y\n",
            "You rolled a: 2\n",
            "Your score is: 5\n",
            "Would you like to roll (y)? y\n",
            "You rolled a: 5\n",
            "Your score is: 10\n",
            "Would you like to roll (y)? y\n",
            "You rolled a: 5\n",
            "Your score is: 15\n",
            "Would you like to roll (y)? y\n",
            "You rolled a 1! Turn done!\n",
            "Your total score is: 0\n",
            "\n",
            "Player number 2 turn has just started!\n",
            "Your total score is: 0 \n",
            "\n",
            "Would you like to roll (y)? y\n",
            "You rolled a: 3\n",
            "Your score is: 3\n"
          ]
        }
      ],
      "source": [
        "\n",
        "import random\n",
        "\n",
        "\n",
        "def roll():\n",
        "    min_value = 1\n",
        "    max_value = 6\n",
        "    roll = random.randint(min_value, max_value)\n",
        "\n",
        "    return roll\n",
        "\n",
        "\n",
        "while True:\n",
        "    players = input(\"Enter the number of players (2 - 4): \")\n",
        "    if players.isdigit():\n",
        "        players = int(players)\n",
        "        if 2 <= players <= 4:\n",
        "            break\n",
        "        else:\n",
        "            print(\"Must be between 2 - 4 players.\")\n",
        "    else:\n",
        "        print(\"Invalid, try again.\")\n",
        "\n",
        "max_score = 50\n",
        "player_scores = [0 for _ in range(players)]\n",
        "\n",
        "while max(player_scores) < max_score:\n",
        "    for player_idx in range(players):\n",
        "        print(\"\\nPlayer number\", player_idx + 1, \"turn has just started!\")\n",
        "        print(\"Your total score is:\", player_scores[player_idx], \"\\n\")\n",
        "        current_score = 0\n",
        "\n",
        "        while True:\n",
        "            should_roll = input(\"Would you like to roll (y)? \")\n",
        "            if should_roll.lower() != \"y\":\n",
        "                break\n",
        "\n",
        "            value = roll()\n",
        "            if value == 1:\n",
        "                print(\"You rolled a 1! Turn done!\")\n",
        "                current_score = 0\n",
        "                break\n",
        "            else:\n",
        "                current_score += value\n",
        "                print(\"You rolled a:\", value)\n",
        "\n",
        "            print(\"Your score is:\", current_score)\n",
        "\n",
        "        player_scores[player_idx] += current_score\n",
        "        print(\"Your total score is:\", player_scores[player_idx])\n",
        "\n",
        "max_score = max(player_scores)\n",
        "winning_idx = player_scores.index(max_score)\n",
        "print(\"Player number\", winning_idx + 1,\n",
        "      \"is the winner with a score of:\", max_score)\n"
      ]
    }
  ]
}